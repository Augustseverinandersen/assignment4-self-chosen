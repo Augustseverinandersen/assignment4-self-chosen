{
 "cells": [
  {
   "cell_type": "code",
   "execution_count": 1,
   "metadata": {},
   "outputs": [
    {
     "name": "stderr",
     "output_type": "stream",
     "text": [
      "2023-05-19 16:23:15.992629: I tensorflow/core/platform/cpu_feature_guard.cc:182] This TensorFlow binary is optimized to use available CPU instructions in performance-critical operations.\n",
      "To enable the following instructions: AVX2 AVX512F FMA, in other operations, rebuild TensorFlow with the appropriate compiler flags.\n"
     ]
    }
   ],
   "source": [
    "# tf tools\n",
    "import tensorflow as tf\n",
    "\n",
    "# image processsing\n",
    "from tensorflow.keras.preprocessing.image import (load_img,\n",
    "                                                  img_to_array,\n",
    "                                                  ImageDataGenerator)\n",
    "# VGG16 model\n",
    "from tensorflow.keras.applications.vgg16 import (preprocess_input,\n",
    "                                                 decode_predictions,\n",
    "                                                 VGG16)\n",
    "# cifar10 data - 32x32\n",
    "#from tensorflow.keras.datasets import cifar10\n",
    "\n",
    "# layers\n",
    "from tensorflow.keras.layers import (Flatten, \n",
    "                                     Dense, \n",
    "                                     Dropout, \n",
    "                                     BatchNormalization)\n",
    "# generic model object\n",
    "from tensorflow.keras.models import Model\n",
    "\n",
    "# optimizers\n",
    "from tensorflow.keras.optimizers.schedules import ExponentialDecay\n",
    "from tensorflow.keras.optimizers import SGD\n",
    "\n",
    "#scikit-learn\n",
    "from sklearn.preprocessing import LabelBinarizer\n",
    "from sklearn.metrics import classification_report\n",
    "\n",
    "# for plotting\n",
    "import numpy as np\n",
    "import matplotlib.pyplot as plt\n",
    "import pandas as pd\n",
    "import os\n",
    "import zipfile\n",
    "import shutil"
   ]
  },
  {
   "cell_type": "markdown",
   "metadata": {},
   "source": [
    "## Unzipping"
   ]
  },
  {
   "cell_type": "code",
   "execution_count": 2,
   "metadata": {},
   "outputs": [
    {
     "name": "stdout",
     "output_type": "stream",
     "text": [
      "The files are unzipped\n"
     ]
    }
   ],
   "source": [
    "    folder_path_train = os.path.join(\"..\", \"data\", \"asl_alphabet_train\", \"asl_alphabet_train\") # Path to the data if unzipped already\n",
    "    if not os.path.exists(folder_path_train): # Checking to see if folder is unzipped\n",
    "        print(\"Unzipping file...\")\n",
    "        path_to_zip = os.path.join(\"..\",\"data\",\"archive1.zip\") # Defining the path to the zip file\n",
    "        zip_destination = os.path.join(\"..\", \"data\") # defining the output destination\n",
    "\n",
    "        with zipfile.ZipFile(path_to_zip,\"r\") as zip_ref: # using the package from zipfile, to un zip the zip file\n",
    "            zip_ref.extractall(zip_destination)\n",
    "    print(\"The files are unzipped\")"
   ]
  },
  {
   "cell_type": "markdown",
   "metadata": {},
   "source": [
    "## Unzipping test images"
   ]
  },
  {
   "cell_type": "code",
   "execution_count": 3,
   "metadata": {},
   "outputs": [
    {
     "name": "stdout",
     "output_type": "stream",
     "text": [
      "The files are unzipped\n"
     ]
    }
   ],
   "source": [
    "    folder_path_test = os.path.join(\"..\", \"data\", \"real_test_images\") # Path to the data if unzipped already\n",
    "    if not os.path.exists(folder_path_test): # Checking to see if folder is unzipped\n",
    "        print(\"Unzipping file\")\n",
    "        os.makedirs(folder_path) # Making the folder real_test_images\n",
    "        path_to_zip = os.path.join(\"..\",\"data\",\"archive2.zip\") # Defining the path to the zip file\n",
    "        zip_destination = os.path.join(\"..\", \"data\", \"real_test_images\") # defining the output destination\n",
    "\n",
    "        with zipfile.ZipFile(path_to_zip,\"r\") as zip_ref: # using the package from zipfile, to un zip the zip file\n",
    "            zip_ref.extractall(zip_destination)\n",
    "    print(\"The files are unzipped\")"
   ]
  },
  {
   "cell_type": "markdown",
   "metadata": {},
   "source": [
    "## Deleting folders"
   ]
  },
  {
   "cell_type": "markdown",
   "metadata": {},
   "source": [
    "### Deleting folders for real_test_images\n",
    "- folder_path_train and folder_path_test is used "
   ]
  },
  {
   "cell_type": "code",
   "execution_count": 4,
   "metadata": {},
   "outputs": [
    {
     "name": "stdout",
     "output_type": "stream",
     "text": [
      "Folder: ../data/asl_alphabet_train/asl_alphabet_train/asl-alphabet-test does not exists\n",
      "Folder: ../data/asl_alphabet_train/asl_alphabet_train/del does not exists\n",
      "Folder: ../data/asl_alphabet_train/asl_alphabet_train/nothing does not exists\n",
      "Folder: ../data/asl_alphabet_train/asl_alphabet_train/space does not exists\n",
      "../data/asl_alphabet_test is already deleted\n"
     ]
    }
   ],
   "source": [
    "\n",
    "folders_to_delete = [\"asl-alphabet-test\", \"del\", \"nothing\", \"space\"]  # List of folders to delete\n",
    "\n",
    "for folder_name in folders_to_delete:\n",
    "    folder_path = os.path.join(folder_path_train, folder_name) # Getting folder_path_test from unzip function \n",
    "    if os.path.exists(folder_path):\n",
    "        shutil.rmtree(folder_path)\n",
    "        print(f\"Deleted folder: {folder_path}\")\n",
    "    else:\n",
    "        print(f\"Folder: {folder_path} does not exists\")\n",
    "\n",
    "folder_path_asl_test = os.path.join(\"..\",\"data\",\"asl_alphabet_test\")\n",
    "if os.path.exists(folder_path_asl_test):\n",
    "    shutil.rmtree(folder_path_asl_test)\n",
    "    print(f\"Deleted folder_ {folder_path_asl_test}\")\n",
    "else:\n",
    "    print(f\"{folder_path_asl_test} is already deleted\")"
   ]
  },
  {
   "cell_type": "markdown",
   "metadata": {},
   "source": [
    "## Train and validation generator "
   ]
  },
  {
   "cell_type": "code",
   "execution_count": 5,
   "metadata": {},
   "outputs": [
    {
     "name": "stdout",
     "output_type": "stream",
     "text": [
      "Creating Image data generator\n"
     ]
    }
   ],
   "source": [
    "\n",
    "    print(\"Creating Image data generator\")\n",
    "    # ImageDataGenerator from tensorflow \n",
    "    datagen = ImageDataGenerator(horizontal_flip=True,\n",
    "                                validation_split = 0.2, # Flip it horizontally around the access randomly \n",
    "                                 # Rotate the image randomly 20 degress around the access\n",
    "                                rescale = 1/255 # rescale the pixel values to between 0-1\n",
    "                                \n",
    "    )\n"
   ]
  },
  {
   "cell_type": "code",
   "execution_count": 6,
   "metadata": {},
   "outputs": [],
   "source": [
    "directory = os.path.join(\"..\",\"data\",\"asl_alphabet_train\", \"asl_alphabet_train\")"
   ]
  },
  {
   "cell_type": "code",
   "execution_count": 7,
   "metadata": {},
   "outputs": [
    {
     "name": "stdout",
     "output_type": "stream",
     "text": [
      "Found 62400 images belonging to 26 classes.\n"
     ]
    }
   ],
   "source": [
    "training_tensorflow = datagen.flow_from_directory(\n",
    "    folder_path_train, # Getting folder from un zip function\n",
    "    target_size=(90, 90),\n",
    "    color_mode='rgb',\n",
    "    classes=None,\n",
    "    class_mode='categorical',\n",
    "    batch_size=128,\n",
    "    shuffle=True,\n",
    "    seed=None,\n",
    "    #save_to_dir=None,\n",
    "    #save_prefix='',\n",
    "    #save_format='png',\n",
    "    #follow_links=False,\n",
    "    subset=\"training\",\n",
    "    interpolation='nearest',\n",
    "    keep_aspect_ratio=False\n",
    ")"
   ]
  },
  {
   "cell_type": "code",
   "execution_count": 8,
   "metadata": {},
   "outputs": [
    {
     "name": "stdout",
     "output_type": "stream",
     "text": [
      "Found 15600 images belonging to 26 classes.\n"
     ]
    }
   ],
   "source": [
    "validation_tensorflow = datagen.flow_from_directory(\n",
    "    folder_path_train,\n",
    "    target_size=(90, 90),\n",
    "    color_mode='rgb',\n",
    "    classes=None,\n",
    "    class_mode='categorical',\n",
    "    batch_size=128,\n",
    "    shuffle=True,\n",
    "    seed=None,\n",
    "    #save_to_dir=None,\n",
    "    #save_prefix='',\n",
    "    #save_format='png',\n",
    "    #follow_links=False,\n",
    "    subset=\"validation\",\n",
    "    interpolation='nearest',\n",
    "    keep_aspect_ratio=False\n",
    ")"
   ]
  },
  {
   "cell_type": "markdown",
   "metadata": {},
   "source": [
    "## Test images"
   ]
  },
  {
   "cell_type": "code",
   "execution_count": 9,
   "metadata": {},
   "outputs": [],
   "source": [
    "directory_test = os.path.join(\"..\",\"data\",\"real_test_images\")"
   ]
  },
  {
   "cell_type": "code",
   "execution_count": 25,
   "metadata": {},
   "outputs": [],
   "source": []
  },
  {
   "cell_type": "markdown",
   "metadata": {},
   "source": [
    "## dataframe creation for train images for enabling sampling"
   ]
  },
  {
   "cell_type": "code",
   "execution_count": 36,
   "metadata": {},
   "outputs": [],
   "source": [
    "\n",
    "# Set the path to the directory containing your data\n",
    "data_dir = os.path.join(\"..\",\"data\",\"asl_alphabet_train\",\"asl_alphabet_train\")\n",
    "\n",
    "\n",
    "\n",
    "# Initialize lists to store image paths and labels\n",
    "image_paths = []\n",
    "labels = []\n",
    "images = []\n",
    "\n",
    "# Iterate through each letter folder in the data directory\n",
    "for label_folder in os.listdir(data_dir):\n",
    "    letter_folder = os.path.join(data_dir, label_folder)\n",
    "\n",
    "    # Iterate through each image file in the letter folder\n",
    "    for filename in os.listdir(letter_folder):\n",
    "        image_path = os.path.join(letter_folder, filename)\n",
    "        images.append(image_path)\n",
    "        # Append the image path and label to the respective lists\n",
    "        image_paths.append(image_path)\n",
    "        labels.append(label_folder)\n",
    "\n",
    "# Create a DataFrame from the image_paths and labels lists\n",
    "train_df = pd.DataFrame({'image_path': image_paths, 'label': labels})\n",
    "\n",
    "\n",
    "\n"
   ]
  },
  {
   "cell_type": "code",
   "execution_count": 37,
   "metadata": {},
   "outputs": [],
   "source": [
    "train_df = train_df.sample(n=10000)"
   ]
  },
  {
   "cell_type": "markdown",
   "metadata": {},
   "source": [
    "## Test datagenerator "
   ]
  },
  {
   "cell_type": "code",
   "execution_count": 25,
   "metadata": {},
   "outputs": [],
   "source": [
    "    test_datagen = ImageDataGenerator(                 \n",
    "                                    rescale = 1./255. # Datagenerator for test, it only has to rescale the images \n",
    "    )"
   ]
  },
  {
   "cell_type": "markdown",
   "metadata": {},
   "source": [
    "## Test flow from dir"
   ]
  },
  {
   "cell_type": "code",
   "execution_count": 49,
   "metadata": {},
   "outputs": [
    {
     "name": "stdout",
     "output_type": "stream",
     "text": [
      "Found 780 images belonging to 26 classes.\n"
     ]
    }
   ],
   "source": [
    "test_tensorflow_ = test_datagen.flow_from_directory(\n",
    "    folder_path_test,\n",
    "    target_size=(90, 90),\n",
    "    color_mode='rgb',\n",
    "    classes=None,\n",
    "    class_mode='categorical',\n",
    "    batch_size=128,\n",
    "    shuffle=True,\n",
    "    seed=None,\n",
    "    #save_to_dir=None,\n",
    "    #save_prefix='',\n",
    "    #save_format='png',\n",
    "    #follow_links=False,\n",
    "    subset=None,\n",
    "    interpolation='nearest',\n",
    "    keep_aspect_ratio=False\n",
    ")"
   ]
  },
  {
   "cell_type": "markdown",
   "metadata": {},
   "source": [
    "## Train dataframe"
   ]
  },
  {
   "cell_type": "code",
   "execution_count": 40,
   "metadata": {},
   "outputs": [
    {
     "name": "stdout",
     "output_type": "stream",
     "text": [
      "Found 10000 validated image filenames belonging to 26 classes.\n"
     ]
    }
   ],
   "source": [
    "training_tensorflow = test_datagen.flow_from_dataframe(\n",
    "    train_df,\n",
    "    directory=None,\n",
    "    x_col='image_path',\n",
    "    y_col='label',\n",
    "    target_size=(90, 90),\n",
    "    color_mode='rgb',\n",
    "    classes=None,\n",
    "    class_mode='categorical',\n",
    "    batch_size=32,\n",
    "    shuffle=False,\n",
    "    seed=None,\n",
    "    interpolation='nearest',\n",
    "    keep_aspect_ratio=False\n",
    ")\n",
    "\n",
    "#[\"A\",\"B\",\"C\",\"D\",\"E\",\"F\",\"G\",\"H\",\"J\",\"K\",\"L\",\"M\",\"N\",\"P\",\"Q\",\"R\",\"S\",\"T\",\"U\",\"V\",\"W\",\"X\",\"Y\",\"Z\"],"
   ]
  },
  {
   "cell_type": "code",
   "execution_count": 12,
   "metadata": {},
   "outputs": [
    {
     "name": "stdout",
     "output_type": "stream",
     "text": [
      "Loading model: \n",
      "Downloading data from https://storage.googleapis.com/tensorflow/keras-applications/vgg16/vgg16_weights_tf_dim_ordering_tf_kernels_notop.h5\n",
      "58889256/58889256 [==============================] - 2s 0us/step\n",
      "Model: \"model\"\n",
      "_________________________________________________________________\n",
      " Layer (type)                Output Shape              Param #   \n",
      "=================================================================\n",
      " input_1 (InputLayer)        [(None, 90, 90, 3)]       0         \n",
      "                                                                 \n",
      " block1_conv1 (Conv2D)       (None, 90, 90, 64)        1792      \n",
      "                                                                 \n",
      " block1_conv2 (Conv2D)       (None, 90, 90, 64)        36928     \n",
      "                                                                 \n",
      " block1_pool (MaxPooling2D)  (None, 45, 45, 64)        0         \n",
      "                                                                 \n",
      " block2_conv1 (Conv2D)       (None, 45, 45, 128)       73856     \n",
      "                                                                 \n",
      " block2_conv2 (Conv2D)       (None, 45, 45, 128)       147584    \n",
      "                                                                 \n",
      " block2_pool (MaxPooling2D)  (None, 22, 22, 128)       0         \n",
      "                                                                 \n",
      " block3_conv1 (Conv2D)       (None, 22, 22, 256)       295168    \n",
      "                                                                 \n",
      " block3_conv2 (Conv2D)       (None, 22, 22, 256)       590080    \n",
      "                                                                 \n",
      " block3_conv3 (Conv2D)       (None, 22, 22, 256)       590080    \n",
      "                                                                 \n",
      " block3_pool (MaxPooling2D)  (None, 11, 11, 256)       0         \n",
      "                                                                 \n",
      " block4_conv1 (Conv2D)       (None, 11, 11, 512)       1180160   \n",
      "                                                                 \n",
      " block4_conv2 (Conv2D)       (None, 11, 11, 512)       2359808   \n",
      "                                                                 \n",
      " block4_conv3 (Conv2D)       (None, 11, 11, 512)       2359808   \n",
      "                                                                 \n",
      " block4_pool (MaxPooling2D)  (None, 5, 5, 512)         0         \n",
      "                                                                 \n",
      " block5_conv1 (Conv2D)       (None, 5, 5, 512)         2359808   \n",
      "                                                                 \n",
      " block5_conv2 (Conv2D)       (None, 5, 5, 512)         2359808   \n",
      "                                                                 \n",
      " block5_conv3 (Conv2D)       (None, 5, 5, 512)         2359808   \n",
      "                                                                 \n",
      " block5_pool (MaxPooling2D)  (None, 2, 2, 512)         0         \n",
      "                                                                 \n",
      " global_average_pooling2d (G  (None, 512)              0         \n",
      " lobalAveragePooling2D)                                          \n",
      "                                                                 \n",
      " flatten (Flatten)           (None, 512)               0         \n",
      "                                                                 \n",
      " batch_normalization (BatchN  (None, 512)              2048      \n",
      " ormalization)                                                   \n",
      "                                                                 \n",
      " dense (Dense)               (None, 256)               131328    \n",
      "                                                                 \n",
      " dense_1 (Dense)             (None, 128)               32896     \n",
      "                                                                 \n",
      " dense_2 (Dense)             (None, 26)                3354      \n",
      "                                                                 \n",
      "=================================================================\n",
      "Total params: 14,884,314\n",
      "Trainable params: 168,602\n",
      "Non-trainable params: 14,715,712\n",
      "_________________________________________________________________\n",
      "None\n"
     ]
    }
   ],
   "source": [
    "\n",
    "    print(\"Loading model: \")  \n",
    "    # load model without classifier layers\n",
    "    model = VGG16(include_top=False, # Exclude classifier layers\n",
    "                pooling='avg',\n",
    "                input_shape=(90, 90, 3)) # Input shape of the images. 224 pixels by 224. 3 color channels\n",
    "\n",
    "    # Keep pretrained layers, and don't modify them\n",
    "    for layer in model.layers:\n",
    "        layer.trainable = False\n",
    "        \n",
    "    # Add new classifier layers\n",
    "    flat1 = Flatten()(model.layers[-1].output)\n",
    "    bn = BatchNormalization()(flat1) # Added batnormalization from tensorflow. Take the previouslayer, normalise the values, and than pass them on\n",
    "    class1 = Dense(256, \n",
    "                activation='relu')(bn) # Added new classification layer \n",
    "    class2 = Dense(128, \n",
    "                activation='relu')(class1) # Added new classification layer with 15 outputs. 15 labels in total\n",
    "    output = Dense(26, # 15 labels\n",
    "                activation='softmax')(class2)\n",
    "\n",
    "    # define new model\n",
    "    model = Model(inputs=model.inputs, \n",
    "                outputs=output)\n",
    "\n",
    "    # compile\n",
    "    lr_schedule = tf.keras.optimizers.schedules.ExponentialDecay(\n",
    "        initial_learning_rate=0.01, # Start learning rate at 0.01\n",
    "        decay_steps=10000, # Every 10 000 steps start decaying \n",
    "        decay_rate=0.9) # DEcay by 0.9 to the start learning rate\n",
    "    sgd = SGD(learning_rate=lr_schedule)\n",
    "\n",
    "    model.compile(optimizer=sgd,\n",
    "                loss='categorical_crossentropy',\n",
    "                metrics=['accuracy'])\n",
    "    # summarize\n",
    "    print(model.summary())\n",
    "    "
   ]
  },
  {
   "cell_type": "code",
   "execution_count": 43,
   "metadata": {},
   "outputs": [
    {
     "name": "stdout",
     "output_type": "stream",
     "text": [
      "Epoch 1/5\n"
     ]
    },
    {
     "name": "stderr",
     "output_type": "stream",
     "text": [
      "2023-05-19 17:25:57.697384: I tensorflow/core/common_runtime/executor.cc:1197] [/device:CPU:0] (DEBUG INFO) Executor start aborting (this does not indicate an error and you can ignore this message): INVALID_ARGUMENT: You must feed a value for placeholder tensor 'Placeholder/_0' with dtype int32\n",
      "\t [[{{node Placeholder/_0}}]]\n"
     ]
    },
    {
     "name": "stdout",
     "output_type": "stream",
     "text": [
      "313/313 [==============================] - 190s 609ms/step - loss: 0.7275 - accuracy: 0.8345 - val_loss: 1.2914 - val_accuracy: 0.6387\n",
      "Epoch 2/5\n",
      "313/313 [==============================] - 126s 402ms/step - loss: 0.5438 - accuracy: 0.8781 - val_loss: 1.2082 - val_accuracy: 0.6621\n",
      "Epoch 3/5\n",
      "313/313 [==============================] - 126s 402ms/step - loss: 0.4295 - accuracy: 0.9063 - val_loss: 1.2640 - val_accuracy: 0.6646\n",
      "Epoch 4/5\n",
      "313/313 [==============================] - 126s 403ms/step - loss: 0.3530 - accuracy: 0.9245 - val_loss: 1.2152 - val_accuracy: 0.6837\n",
      "Epoch 5/5\n",
      "313/313 [==============================] - 126s 404ms/step - loss: 0.2961 - accuracy: 0.9377 - val_loss: 1.2589 - val_accuracy: 0.6819\n"
     ]
    }
   ],
   "source": [
    "    H = model.fit( # fitting the model to \n",
    "        training_tensorflow, # training data from tensorflow dataframe \n",
    "        steps_per_epoch = len(training_tensorflow), # Take as many steps as the length of the dataframe \n",
    "        validation_data = validation_tensorflow, # Validation data from tensorflow dataframe\n",
    "        validation_steps = len(validation_tensorflow), # Validation steps as length of validation data \n",
    "        epochs = 5)"
   ]
  },
  {
   "cell_type": "markdown",
   "metadata": {},
   "source": [
    "## Predictions"
   ]
  },
  {
   "cell_type": "code",
   "execution_count": 51,
   "metadata": {},
   "outputs": [
    {
     "name": "stderr",
     "output_type": "stream",
     "text": [
      "2023-05-19 17:53:16.595030: I tensorflow/core/common_runtime/executor.cc:1197] [/device:CPU:0] (DEBUG INFO) Executor start aborting (this does not indicate an error and you can ignore this message): INVALID_ARGUMENT: You must feed a value for placeholder tensor 'Placeholder/_0' with dtype int32\n",
      "\t [[{{node Placeholder/_0}}]]\n"
     ]
    },
    {
     "name": "stdout",
     "output_type": "stream",
     "text": [
      "7/7 [==============================] - 37s 6s/step\n"
     ]
    }
   ],
   "source": [
    "    pred = model.predict(test_tensorflow_) # Using test data on the model\n",
    "    pred = np.argmax(pred,axis=1)\n",
    "\n",
    "    # Map the label \n",
    "    labels = (training_tensorflow_.class_indices)\n",
    "    labels = dict((v,k) for k,v in labels.items())\n",
    "    pred = [labels[k] for k in pred]"
   ]
  },
  {
   "cell_type": "markdown",
   "metadata": {},
   "source": [
    "## Classifier report"
   ]
  },
  {
   "cell_type": "code",
   "execution_count": 52,
   "metadata": {},
   "outputs": [
    {
     "ename": "ValueError",
     "evalue": "Found input variables with inconsistent numbers of samples: [10000, 780]",
     "output_type": "error",
     "traceback": [
      "\u001b[0;31m---------------------------------------------------------------------------\u001b[0m",
      "\u001b[0;31mValueError\u001b[0m                                Traceback (most recent call last)",
      "Cell \u001b[0;32mIn[52], line 2\u001b[0m\n\u001b[1;32m      1\u001b[0m y_true \u001b[39m=\u001b[39m test_df[\u001b[39m'\u001b[39m\u001b[39mlabel\u001b[39m\u001b[39m'\u001b[39m]\u001b[39m.\u001b[39mvalues \u001b[39m# Test labels from dataframe\u001b[39;00m\n\u001b[0;32m----> 2\u001b[0m classification_report_test \u001b[39m=\u001b[39m classification_report(y_true, pred) \u001b[39m# Create classification report with labels, and predictions\u001b[39;00m\n\u001b[1;32m      3\u001b[0m \u001b[39mprint\u001b[39m(\u001b[39m\"\u001b[39m\u001b[39mClassification Report - Test Data:\u001b[39m\u001b[39m\"\u001b[39m)\n\u001b[1;32m      4\u001b[0m \u001b[39mprint\u001b[39m(classification_report_test)\n",
      "File \u001b[0;32m~/.local/lib/python3.9/site-packages/sklearn/metrics/_classification.py:2310\u001b[0m, in \u001b[0;36mclassification_report\u001b[0;34m(y_true, y_pred, labels, target_names, sample_weight, digits, output_dict, zero_division)\u001b[0m\n\u001b[1;32m   2195\u001b[0m \u001b[39mdef\u001b[39;00m \u001b[39mclassification_report\u001b[39m(\n\u001b[1;32m   2196\u001b[0m     y_true,\n\u001b[1;32m   2197\u001b[0m     y_pred,\n\u001b[0;32m   (...)\u001b[0m\n\u001b[1;32m   2204\u001b[0m     zero_division\u001b[39m=\u001b[39m\u001b[39m\"\u001b[39m\u001b[39mwarn\u001b[39m\u001b[39m\"\u001b[39m,\n\u001b[1;32m   2205\u001b[0m ):\n\u001b[1;32m   2206\u001b[0m \u001b[39m    \u001b[39m\u001b[39m\"\"\"Build a text report showing the main classification metrics.\u001b[39;00m\n\u001b[1;32m   2207\u001b[0m \n\u001b[1;32m   2208\u001b[0m \u001b[39m    Read more in the :ref:`User Guide <classification_report>`.\u001b[39;00m\n\u001b[0;32m   (...)\u001b[0m\n\u001b[1;32m   2307\u001b[0m \u001b[39m    <BLANKLINE>\u001b[39;00m\n\u001b[1;32m   2308\u001b[0m \u001b[39m    \"\"\"\u001b[39;00m\n\u001b[0;32m-> 2310\u001b[0m     y_type, y_true, y_pred \u001b[39m=\u001b[39m _check_targets(y_true, y_pred)\n\u001b[1;32m   2312\u001b[0m     \u001b[39mif\u001b[39;00m labels \u001b[39mis\u001b[39;00m \u001b[39mNone\u001b[39;00m:\n\u001b[1;32m   2313\u001b[0m         labels \u001b[39m=\u001b[39m unique_labels(y_true, y_pred)\n",
      "File \u001b[0;32m~/.local/lib/python3.9/site-packages/sklearn/metrics/_classification.py:86\u001b[0m, in \u001b[0;36m_check_targets\u001b[0;34m(y_true, y_pred)\u001b[0m\n\u001b[1;32m     59\u001b[0m \u001b[39mdef\u001b[39;00m \u001b[39m_check_targets\u001b[39m(y_true, y_pred):\n\u001b[1;32m     60\u001b[0m \u001b[39m    \u001b[39m\u001b[39m\"\"\"Check that y_true and y_pred belong to the same classification task.\u001b[39;00m\n\u001b[1;32m     61\u001b[0m \n\u001b[1;32m     62\u001b[0m \u001b[39m    This converts multiclass or binary types to a common shape, and raises a\u001b[39;00m\n\u001b[0;32m   (...)\u001b[0m\n\u001b[1;32m     84\u001b[0m \u001b[39m    y_pred : array or indicator matrix\u001b[39;00m\n\u001b[1;32m     85\u001b[0m \u001b[39m    \"\"\"\u001b[39;00m\n\u001b[0;32m---> 86\u001b[0m     check_consistent_length(y_true, y_pred)\n\u001b[1;32m     87\u001b[0m     type_true \u001b[39m=\u001b[39m type_of_target(y_true, input_name\u001b[39m=\u001b[39m\u001b[39m\"\u001b[39m\u001b[39my_true\u001b[39m\u001b[39m\"\u001b[39m)\n\u001b[1;32m     88\u001b[0m     type_pred \u001b[39m=\u001b[39m type_of_target(y_pred, input_name\u001b[39m=\u001b[39m\u001b[39m\"\u001b[39m\u001b[39my_pred\u001b[39m\u001b[39m\"\u001b[39m)\n",
      "File \u001b[0;32m~/.local/lib/python3.9/site-packages/sklearn/utils/validation.py:397\u001b[0m, in \u001b[0;36mcheck_consistent_length\u001b[0;34m(*arrays)\u001b[0m\n\u001b[1;32m    395\u001b[0m uniques \u001b[39m=\u001b[39m np\u001b[39m.\u001b[39munique(lengths)\n\u001b[1;32m    396\u001b[0m \u001b[39mif\u001b[39;00m \u001b[39mlen\u001b[39m(uniques) \u001b[39m>\u001b[39m \u001b[39m1\u001b[39m:\n\u001b[0;32m--> 397\u001b[0m     \u001b[39mraise\u001b[39;00m \u001b[39mValueError\u001b[39;00m(\n\u001b[1;32m    398\u001b[0m         \u001b[39m\"\u001b[39m\u001b[39mFound input variables with inconsistent numbers of samples: \u001b[39m\u001b[39m%r\u001b[39;00m\u001b[39m\"\u001b[39m\n\u001b[1;32m    399\u001b[0m         \u001b[39m%\u001b[39m [\u001b[39mint\u001b[39m(l) \u001b[39mfor\u001b[39;00m l \u001b[39min\u001b[39;00m lengths]\n\u001b[1;32m    400\u001b[0m     )\n",
      "\u001b[0;31mValueError\u001b[0m: Found input variables with inconsistent numbers of samples: [10000, 780]"
     ]
    }
   ],
   "source": [
    "    y_true = test_df['label'].values # Test labels from dataframe\n",
    "    classification_report_test = classification_report(y_true, pred) # Create classification report with labels, and predictions\n",
    "    print(\"Classification Report - Test Data:\")\n",
    "    print(classification_report_test)"
   ]
  },
  {
   "cell_type": "code",
   "execution_count": 53,
   "metadata": {},
   "outputs": [
    {
     "name": "stdout",
     "output_type": "stream",
     "text": [
      "              precision    recall  f1-score   support\n",
      "\n",
      "           A       0.03      0.03      0.03        30\n",
      "           B       0.00      0.00      0.00        30\n",
      "           C       0.00      0.00      0.00        30\n",
      "           D       0.04      0.13      0.06        30\n",
      "           E       0.07      0.10      0.08        30\n",
      "           F       0.03      0.03      0.03        30\n",
      "           G       0.04      0.27      0.07        30\n",
      "           H       0.18      0.07      0.10        30\n",
      "           I       0.00      0.00      0.00        30\n",
      "           J       0.05      0.07      0.06        30\n",
      "           K       0.00      0.00      0.00        30\n",
      "           L       0.25      0.03      0.06        30\n",
      "           M       0.00      0.00      0.00        30\n",
      "           N       0.05      0.03      0.04        30\n",
      "           O       0.06      0.03      0.04        30\n",
      "           P       0.00      0.00      0.00        30\n",
      "           Q       0.00      0.00      0.00        30\n",
      "           R       0.08      0.03      0.05        30\n",
      "           S       0.50      0.03      0.06        30\n",
      "           T       0.00      0.00      0.00        30\n",
      "           U       0.00      0.00      0.00        30\n",
      "           V       0.00      0.00      0.00        30\n",
      "           W       0.00      0.00      0.00        30\n",
      "           X       0.33      0.03      0.06        30\n",
      "           Y       0.05      0.03      0.04        30\n",
      "           Z       0.00      0.00      0.00        30\n",
      "\n",
      "    accuracy                           0.04       780\n",
      "   macro avg       0.07      0.04      0.03       780\n",
      "weighted avg       0.07      0.04      0.03       780\n",
      "\n"
     ]
    }
   ],
   "source": [
    "true_labels = test_tensorflow_.classes\n",
    "\n",
    "# Convert labels to numerical values\n",
    "label_map = {v: k for k, v in training_tensorflow.class_indices.items()}\n",
    "true_labels = np.array([label_map[label] for label in true_labels])\n",
    "\n",
    "# Print the classification report\n",
    "print(classification_report(true_labels, pred))\n"
   ]
  },
  {
   "cell_type": "markdown",
   "metadata": {},
   "source": [
    "## Plotting history "
   ]
  },
  {
   "cell_type": "code",
   "execution_count": 47,
   "metadata": {},
   "outputs": [
    {
     "data": {
      "text/plain": [
       "[<matplotlib.lines.Line2D at 0x7f5f9c4dae20>]"
      ]
     },
     "execution_count": 47,
     "metadata": {},
     "output_type": "execute_result"
    },
    {
     "data": {
      "image/png": "[encoded data removed]",
      "text/plain": [
       "<Figure size 640x480 with 1 Axes>"
      ]
     },
     "metadata": {},
     "output_type": "display_data"
    }
   ],
   "source": [
    "plt.plot(np.arange(0,5), H.history[\"loss\"], label = \"train_loss\")\n",
    "plt.plot(np.arange(0, 5), H.history[\"val_loss\"], label=\"val_loss\", linestyle=\":\")"
   ]
  }
 ],
 "metadata": {
  "kernelspec": {
   "display_name": "Python 3",
   "language": "python",
   "name": "python3"
  },
  "language_info": {
   "codemirror_mode": {
    "name": "ipython",
    "version": 3
   },
   "file_extension": ".py",
   "mimetype": "text/x-python",
   "name": "python",
   "nbconvert_exporter": "python",
   "pygments_lexer": "ipython3",
   "version": "3.9.2"
  },
  "orig_nbformat": 4,
  "vscode": {
   "interpreter": {
    "hash": "767d51c1340bd893661ea55ea3124f6de3c7a262a8b4abca0554b478b1e2ff90"
   }
  }
 },
 "nbformat": 4,
 "nbformat_minor": 2
}
