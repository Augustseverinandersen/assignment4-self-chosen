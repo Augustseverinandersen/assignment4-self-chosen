{
 "cells": [
  {
   "cell_type": "code",
   "execution_count": 6,
   "metadata": {},
   "outputs": [],
   "source": [
    "# tf tools\n",
    "import tensorflow as tf\n",
    "\n",
    "# image processsing\n",
    "from tensorflow.keras.preprocessing.image import (load_img,\n",
    "                                                  img_to_array,\n",
    "                                                  ImageDataGenerator)\n",
    "# VGG16 model\n",
    "from tensorflow.keras.applications.vgg16 import (preprocess_input,\n",
    "                                                 decode_predictions,\n",
    "                                                 VGG16)\n",
    "# cifar10 data - 32x32\n",
    "from tensorflow.keras.datasets import cifar10\n",
    "\n",
    "# layers\n",
    "from tensorflow.keras.layers import (Flatten, \n",
    "                                     Dense, \n",
    "                                     Dropout, \n",
    "                                     BatchNormalization)\n",
    "# generic model object\n",
    "from tensorflow.keras.models import Model\n",
    "\n",
    "# optimizers\n",
    "from tensorflow.keras.optimizers.schedules import ExponentialDecay\n",
    "from tensorflow.keras.optimizers import SGD\n",
    "\n",
    "#scikit-learn\n",
    "from sklearn.preprocessing import LabelBinarizer\n",
    "from sklearn.metrics import classification_report\n",
    "\n",
    "# for plotting\n",
    "import numpy as np\n",
    "import matplotlib.pyplot as plt\n",
    "import pandas as pd\n",
    "import os\n",
    "import zipfile"
   ]
  },
  {
   "cell_type": "markdown",
   "metadata": {},
   "source": [
    "## Unzipping"
   ]
  },
  {
   "cell_type": "code",
   "execution_count": 18,
   "metadata": {},
   "outputs": [
    {
     "name": "stdout",
     "output_type": "stream",
     "text": [
      "Unzipping file\n",
      "The files are unzipped\n"
     ]
    }
   ],
   "source": [
    "    folder_path = os.path.join(\"..\", \"data\", \"asl_alphabet_train\") # Path to the data if unzipped already\n",
    "    if not os.path.exists(folder_path): # Checking to see if folder is unzipped\n",
    "        print(\"Unzipping file\")\n",
    "        path_to_zip = os.path.join(\"..\",\"data\",\"archive1.zip\") # Defining the path to the zip file\n",
    "        zip_destination = os.path.join(\"..\", \"data\") # defining the output destination\n",
    "\n",
    "        with zipfile.ZipFile(path_to_zip,\"r\") as zip_ref: # using the package from zipfile, to un zip the zip file\n",
    "            zip_ref.extractall(zip_destination)\n",
    "    print(\"The files are unzipped\")"
   ]
  },
  {
   "cell_type": "markdown",
   "metadata": {},
   "source": [
    "## Train and validation generator "
   ]
  },
  {
   "cell_type": "code",
   "execution_count": 19,
   "metadata": {},
   "outputs": [
    {
     "name": "stdout",
     "output_type": "stream",
     "text": [
      "Creating Image data generator\n"
     ]
    }
   ],
   "source": [
    "\n",
    "    print(\"Creating Image data generator\")\n",
    "    # ImageDataGenerator from tensorflow \n",
    "    datagen = ImageDataGenerator(horizontal_flip=True,\n",
    "                                validation_split = 0.2, # Flip it horizontally around the access randomly \n",
    "                                 # Rotate the image randomly 20 degress around the access\n",
    "                                rescale = 1/255 # rescale the pixel values to between 0-1\n",
    "                                \n",
    "    )\n"
   ]
  },
  {
   "cell_type": "code",
   "execution_count": 20,
   "metadata": {},
   "outputs": [],
   "source": [
    "directory = os.path.join(\"..\",\"data\",\"asl_alphabet_train\", \"asl_alphabet_train\")"
   ]
  },
  {
   "cell_type": "code",
   "execution_count": 22,
   "metadata": {},
   "outputs": [
    {
     "name": "stdout",
     "output_type": "stream",
     "text": [
      "Found 62400 images belonging to 26 classes.\n"
     ]
    }
   ],
   "source": [
    "training_tensorflow = datagen.flow_from_directory(\n",
    "    directory,\n",
    "    target_size=(90, 90),\n",
    "    color_mode='rgb',\n",
    "    classes=None,\n",
    "    class_mode='categorical',\n",
    "    batch_size=32,\n",
    "    shuffle=True,\n",
    "    seed=None,\n",
    "    #save_to_dir=None,\n",
    "    #save_prefix='',\n",
    "    #save_format='png',\n",
    "    #follow_links=False,\n",
    "    subset=\"training\",\n",
    "    interpolation='nearest',\n",
    "    keep_aspect_ratio=False\n",
    ")"
   ]
  },
  {
   "cell_type": "code",
   "execution_count": 24,
   "metadata": {},
   "outputs": [
    {
     "name": "stdout",
     "output_type": "stream",
     "text": [
      "Found 15600 images belonging to 26 classes.\n"
     ]
    }
   ],
   "source": [
    "validation_tensorflow = datagen.flow_from_directory(\n",
    "    directory,\n",
    "    target_size=(90, 90),\n",
    "    color_mode='rgb',\n",
    "    classes=None,\n",
    "    class_mode='categorical',\n",
    "    batch_size=32,\n",
    "    shuffle=True,\n",
    "    seed=None,\n",
    "    #save_to_dir=None,\n",
    "    #save_prefix='',\n",
    "    #save_format='png',\n",
    "    #follow_links=False,\n",
    "    subset=\"validation\",\n",
    "    interpolation='nearest',\n",
    "    keep_aspect_ratio=False\n",
    ")"
   ]
  },
  {
   "cell_type": "markdown",
   "metadata": {},
   "source": [
    "## Test images"
   ]
  },
  {
   "cell_type": "code",
   "execution_count": null,
   "metadata": {},
   "outputs": [],
   "source": [
    "directory_test = os.path.join(\"..\",\"data\",\"asl_alphabet_test\", \"asl_alphabet_test\")"
   ]
  },
  {
   "cell_type": "code",
   "execution_count": 25,
   "metadata": {},
   "outputs": [],
   "source": []
  },
  {
   "cell_type": "code",
   "execution_count": 34,
   "metadata": {},
   "outputs": [],
   "source": [
    "test_df = pd.DataFrame()\n",
    "test_df['filename'] = os.listdir(directory_test)\n",
    "test_df['label'] = test_df['filename'].apply(lambda x: x.split('_')[0]) # Assumes file names are in the format 'label.extension'\n"
   ]
  },
  {
   "cell_type": "code",
   "execution_count": 35,
   "metadata": {},
   "outputs": [
    {
     "data": {
      "text/html": [
       "<div>\n",
       "<style scoped>\n",
       "    .dataframe tbody tr th:only-of-type {\n",
       "        vertical-align: middle;\n",
       "    }\n",
       "\n",
       "    .dataframe tbody tr th {\n",
       "        vertical-align: top;\n",
       "    }\n",
       "\n",
       "    .dataframe thead th {\n",
       "        text-align: right;\n",
       "    }\n",
       "</style>\n",
       "<table border=\"1\" class=\"dataframe\">\n",
       "  <thead>\n",
       "    <tr style=\"text-align: right;\">\n",
       "      <th></th>\n",
       "      <th>filename</th>\n",
       "      <th>label</th>\n",
       "    </tr>\n",
       "  </thead>\n",
       "  <tbody>\n",
       "    <tr>\n",
       "      <th>0</th>\n",
       "      <td>C_test.jpg</td>\n",
       "      <td>C</td>\n",
       "    </tr>\n",
       "    <tr>\n",
       "      <th>1</th>\n",
       "      <td>W_test.jpg</td>\n",
       "      <td>W</td>\n",
       "    </tr>\n",
       "    <tr>\n",
       "      <th>2</th>\n",
       "      <td>A_test.jpg</td>\n",
       "      <td>A</td>\n",
       "    </tr>\n",
       "    <tr>\n",
       "      <th>3</th>\n",
       "      <td>V_test.jpg</td>\n",
       "      <td>V</td>\n",
       "    </tr>\n",
       "    <tr>\n",
       "      <th>4</th>\n",
       "      <td>T_test.jpg</td>\n",
       "      <td>T</td>\n",
       "    </tr>\n",
       "    <tr>\n",
       "      <th>5</th>\n",
       "      <td>E_test.jpg</td>\n",
       "      <td>E</td>\n",
       "    </tr>\n",
       "    <tr>\n",
       "      <th>6</th>\n",
       "      <td>Y_test.jpg</td>\n",
       "      <td>Y</td>\n",
       "    </tr>\n",
       "    <tr>\n",
       "      <th>7</th>\n",
       "      <td>R_test.jpg</td>\n",
       "      <td>R</td>\n",
       "    </tr>\n",
       "    <tr>\n",
       "      <th>8</th>\n",
       "      <td>X_test.jpg</td>\n",
       "      <td>X</td>\n",
       "    </tr>\n",
       "    <tr>\n",
       "      <th>9</th>\n",
       "      <td>N_test.jpg</td>\n",
       "      <td>N</td>\n",
       "    </tr>\n",
       "    <tr>\n",
       "      <th>10</th>\n",
       "      <td>D_test.jpg</td>\n",
       "      <td>D</td>\n",
       "    </tr>\n",
       "    <tr>\n",
       "      <th>11</th>\n",
       "      <td>B_test.jpg</td>\n",
       "      <td>B</td>\n",
       "    </tr>\n",
       "    <tr>\n",
       "      <th>12</th>\n",
       "      <td>J_test.jpg</td>\n",
       "      <td>J</td>\n",
       "    </tr>\n",
       "    <tr>\n",
       "      <th>13</th>\n",
       "      <td>F_test.jpg</td>\n",
       "      <td>F</td>\n",
       "    </tr>\n",
       "    <tr>\n",
       "      <th>14</th>\n",
       "      <td>G_test.jpg</td>\n",
       "      <td>G</td>\n",
       "    </tr>\n",
       "    <tr>\n",
       "      <th>15</th>\n",
       "      <td>O_test.jpg</td>\n",
       "      <td>O</td>\n",
       "    </tr>\n",
       "    <tr>\n",
       "      <th>16</th>\n",
       "      <td>P_test.jpg</td>\n",
       "      <td>P</td>\n",
       "    </tr>\n",
       "    <tr>\n",
       "      <th>17</th>\n",
       "      <td>I_test.jpg</td>\n",
       "      <td>I</td>\n",
       "    </tr>\n",
       "    <tr>\n",
       "      <th>18</th>\n",
       "      <td>S_test.jpg</td>\n",
       "      <td>S</td>\n",
       "    </tr>\n",
       "    <tr>\n",
       "      <th>19</th>\n",
       "      <td>M_test.jpg</td>\n",
       "      <td>M</td>\n",
       "    </tr>\n",
       "    <tr>\n",
       "      <th>20</th>\n",
       "      <td>K_test.jpg</td>\n",
       "      <td>K</td>\n",
       "    </tr>\n",
       "    <tr>\n",
       "      <th>21</th>\n",
       "      <td>Q_test.jpg</td>\n",
       "      <td>Q</td>\n",
       "    </tr>\n",
       "    <tr>\n",
       "      <th>22</th>\n",
       "      <td>Z_test.jpg</td>\n",
       "      <td>Z</td>\n",
       "    </tr>\n",
       "    <tr>\n",
       "      <th>23</th>\n",
       "      <td>L_test.jpg</td>\n",
       "      <td>L</td>\n",
       "    </tr>\n",
       "    <tr>\n",
       "      <th>24</th>\n",
       "      <td>H_test.jpg</td>\n",
       "      <td>H</td>\n",
       "    </tr>\n",
       "    <tr>\n",
       "      <th>25</th>\n",
       "      <td>U_test.jpg</td>\n",
       "      <td>U</td>\n",
       "    </tr>\n",
       "  </tbody>\n",
       "</table>\n",
       "</div>"
      ],
      "text/plain": [
       "      filename label\n",
       "0   C_test.jpg     C\n",
       "1   W_test.jpg     W\n",
       "2   A_test.jpg     A\n",
       "3   V_test.jpg     V\n",
       "4   T_test.jpg     T\n",
       "5   E_test.jpg     E\n",
       "6   Y_test.jpg     Y\n",
       "7   R_test.jpg     R\n",
       "8   X_test.jpg     X\n",
       "9   N_test.jpg     N\n",
       "10  D_test.jpg     D\n",
       "11  B_test.jpg     B\n",
       "12  J_test.jpg     J\n",
       "13  F_test.jpg     F\n",
       "14  G_test.jpg     G\n",
       "15  O_test.jpg     O\n",
       "16  P_test.jpg     P\n",
       "17  I_test.jpg     I\n",
       "18  S_test.jpg     S\n",
       "19  M_test.jpg     M\n",
       "20  K_test.jpg     K\n",
       "21  Q_test.jpg     Q\n",
       "22  Z_test.jpg     Z\n",
       "23  L_test.jpg     L\n",
       "24  H_test.jpg     H\n",
       "25  U_test.jpg     U"
      ]
     },
     "execution_count": 35,
     "metadata": {},
     "output_type": "execute_result"
    }
   ],
   "source": [
    "test_df"
   ]
  },
  {
   "cell_type": "code",
   "execution_count": 50,
   "metadata": {},
   "outputs": [],
   "source": [
    "    test_datagen = ImageDataGenerator(                 \n",
    "                                    rescale = 1./255. # Datagenerator for test, it only has to rescale the images \n",
    "    )"
   ]
  },
  {
   "cell_type": "code",
   "execution_count": 51,
   "metadata": {},
   "outputs": [
    {
     "name": "stdout",
     "output_type": "stream",
     "text": [
      "Found 26 validated image filenames belonging to 26 classes.\n"
     ]
    }
   ],
   "source": [
    "test_tensorflow_ = test_datagen.flow_from_dataframe(\n",
    "    test_df,\n",
    "    directory=directory_test,\n",
    "    x_col='filename',\n",
    "    y_col='label',\n",
    "    target_size=(90, 90),\n",
    "    color_mode='rgb',\n",
    "    classes=None,\n",
    "    class_mode='categorical',\n",
    "    batch_size=32,\n",
    "    shuffle=False,\n",
    "    seed=None,\n",
    "    interpolation='nearest',\n",
    "    keep_aspect_ratio=False\n",
    ")\n",
    "\n",
    "#[\"A\",\"B\",\"C\",\"D\",\"E\",\"F\",\"G\",\"H\",\"J\",\"K\",\"L\",\"M\",\"N\",\"P\",\"Q\",\"R\",\"S\",\"T\",\"U\",\"V\",\"W\",\"X\",\"Y\",\"Z\"],"
   ]
  },
  {
   "cell_type": "code",
   "execution_count": 39,
   "metadata": {},
   "outputs": [
    {
     "name": "stdout",
     "output_type": "stream",
     "text": [
      "Loading model: \n",
      "Model: \"model_1\"\n",
      "_________________________________________________________________\n",
      " Layer (type)                Output Shape              Param #   \n",
      "=================================================================\n",
      " input_2 (InputLayer)        [(None, 90, 90, 3)]       0         \n",
      "                                                                 \n",
      " block1_conv1 (Conv2D)       (None, 90, 90, 64)        1792      \n",
      "                                                                 \n",
      " block1_conv2 (Conv2D)       (None, 90, 90, 64)        36928     \n",
      "                                                                 \n",
      " block1_pool (MaxPooling2D)  (None, 45, 45, 64)        0         \n",
      "                                                                 \n",
      " block2_conv1 (Conv2D)       (None, 45, 45, 128)       73856     \n",
      "                                                                 \n",
      " block2_conv2 (Conv2D)       (None, 45, 45, 128)       147584    \n",
      "                                                                 \n",
      " block2_pool (MaxPooling2D)  (None, 22, 22, 128)       0         \n",
      "                                                                 \n",
      " block3_conv1 (Conv2D)       (None, 22, 22, 256)       295168    \n",
      "                                                                 \n",
      " block3_conv2 (Conv2D)       (None, 22, 22, 256)       590080    \n",
      "                                                                 \n",
      " block3_conv3 (Conv2D)       (None, 22, 22, 256)       590080    \n",
      "                                                                 \n",
      " block3_pool (MaxPooling2D)  (None, 11, 11, 256)       0         \n",
      "                                                                 \n",
      " block4_conv1 (Conv2D)       (None, 11, 11, 512)       1180160   \n",
      "                                                                 \n",
      " block4_conv2 (Conv2D)       (None, 11, 11, 512)       2359808   \n",
      "                                                                 \n",
      " block4_conv3 (Conv2D)       (None, 11, 11, 512)       2359808   \n",
      "                                                                 \n",
      " block4_pool (MaxPooling2D)  (None, 5, 5, 512)         0         \n",
      "                                                                 \n",
      " block5_conv1 (Conv2D)       (None, 5, 5, 512)         2359808   \n",
      "                                                                 \n",
      " block5_conv2 (Conv2D)       (None, 5, 5, 512)         2359808   \n",
      "                                                                 \n",
      " block5_conv3 (Conv2D)       (None, 5, 5, 512)         2359808   \n",
      "                                                                 \n",
      " block5_pool (MaxPooling2D)  (None, 2, 2, 512)         0         \n",
      "                                                                 \n",
      " global_average_pooling2d_1   (None, 512)              0         \n",
      " (GlobalAveragePooling2D)                                        \n",
      "                                                                 \n",
      " flatten_1 (Flatten)         (None, 512)               0         \n",
      "                                                                 \n",
      " batch_normalization_1 (Batc  (None, 512)              2048      \n",
      " hNormalization)                                                 \n",
      "                                                                 \n",
      " dense_3 (Dense)             (None, 256)               131328    \n",
      "                                                                 \n",
      " dense_4 (Dense)             (None, 128)               32896     \n",
      "                                                                 \n",
      " dense_5 (Dense)             (None, 26)                3354      \n",
      "                                                                 \n",
      "=================================================================\n",
      "Total params: 14,884,314\n",
      "Trainable params: 168,602\n",
      "Non-trainable params: 14,715,712\n",
      "_________________________________________________________________\n",
      "None\n"
     ]
    }
   ],
   "source": [
    "\n",
    "    print(\"Loading model: \")  \n",
    "    # load model without classifier layers\n",
    "    model = VGG16(include_top=False, # Exclude classifier layers\n",
    "                pooling='avg',\n",
    "                input_shape=(90, 90, 3)) # Input shape of the images. 224 pixels by 224. 3 color channels\n",
    "\n",
    "    # Keep pretrained layers, and don't modify them\n",
    "    for layer in model.layers:\n",
    "        layer.trainable = False\n",
    "        \n",
    "    # Add new classifier layers\n",
    "    flat1 = Flatten()(model.layers[-1].output)\n",
    "    bn = BatchNormalization()(flat1) # Added batnormalization from tensorflow. Take the previouslayer, normalise the values, and than pass them on\n",
    "    class1 = Dense(256, \n",
    "                activation='relu')(bn) # Added new classification layer \n",
    "    class2 = Dense(128, \n",
    "                activation='relu')(class1) # Added new classification layer with 15 outputs. 15 labels in total\n",
    "    output = Dense(26, # 15 labels\n",
    "                activation='softmax')(class2)\n",
    "\n",
    "    # define new model\n",
    "    model = Model(inputs=model.inputs, \n",
    "                outputs=output)\n",
    "\n",
    "    # compile\n",
    "    lr_schedule = tf.keras.optimizers.schedules.ExponentialDecay(\n",
    "        initial_learning_rate=0.01, # Start learning rate at 0.01\n",
    "        decay_steps=10000, # Every 10 000 steps start decaying \n",
    "        decay_rate=0.9) # DEcay by 0.9 to the start learning rate\n",
    "    sgd = SGD(learning_rate=lr_schedule)\n",
    "\n",
    "    model.compile(optimizer=sgd,\n",
    "                loss='categorical_crossentropy',\n",
    "                metrics=['accuracy'])\n",
    "    # summarize\n",
    "    print(model.summary())\n",
    "    "
   ]
  },
  {
   "cell_type": "code",
   "execution_count": 40,
   "metadata": {},
   "outputs": [
    {
     "name": "stdout",
     "output_type": "stream",
     "text": [
      "Epoch 1/2\n"
     ]
    },
    {
     "name": "stderr",
     "output_type": "stream",
     "text": [
      "2023-05-12 13:50:30.169904: I tensorflow/core/common_runtime/executor.cc:1197] [/device:CPU:0] (DEBUG INFO) Executor start aborting (this does not indicate an error and you can ignore this message): INVALID_ARGUMENT: You must feed a value for placeholder tensor 'Placeholder/_0' with dtype int32\n",
      "\t [[{{node Placeholder/_0}}]]\n"
     ]
    },
    {
     "name": "stdout",
     "output_type": "stream",
     "text": [
      "1950/1950 [==============================] - ETA: 0s - loss: 1.2653 - accuracy: 0.6813"
     ]
    },
    {
     "name": "stderr",
     "output_type": "stream",
     "text": [
      "2023-05-12 14:05:08.351889: I tensorflow/core/common_runtime/executor.cc:1197] [/device:CPU:0] (DEBUG INFO) Executor start aborting (this does not indicate an error and you can ignore this message): INVALID_ARGUMENT: You must feed a value for placeholder tensor 'Placeholder/_0' with dtype int32\n",
      "\t [[{{node Placeholder/_0}}]]\n"
     ]
    },
    {
     "name": "stdout",
     "output_type": "stream",
     "text": [
      "1950/1950 [==============================] - 1088s 558ms/step - loss: 1.2653 - accuracy: 0.6813 - val_loss: 1.1473 - val_accuracy: 0.6602\n",
      "Epoch 2/2\n",
      "1950/1950 [==============================] - 761s 390ms/step - loss: 0.3508 - accuracy: 0.9090 - val_loss: 0.9614 - val_accuracy: 0.7128\n"
     ]
    }
   ],
   "source": [
    "    H = model.fit( # fitting the model to \n",
    "        training_tensorflow, # training data from tensorflow dataframe \n",
    "        steps_per_epoch = len(training_tensorflow), # Take as many steps as the length of the dataframe \n",
    "        validation_data = validation_tensorflow, # Validation data from tensorflow dataframe\n",
    "        validation_steps = len(validation_tensorflow), # Validation steps as length of validation data \n",
    "        epochs = 2)"
   ]
  },
  {
   "cell_type": "markdown",
   "metadata": {},
   "source": [
    "## Predictions"
   ]
  },
  {
   "cell_type": "code",
   "execution_count": 53,
   "metadata": {},
   "outputs": [
    {
     "name": "stderr",
     "output_type": "stream",
     "text": [
      "2023-05-12 14:25:34.508111: I tensorflow/core/common_runtime/executor.cc:1197] [/device:CPU:0] (DEBUG INFO) Executor start aborting (this does not indicate an error and you can ignore this message): INVALID_ARGUMENT: You must feed a value for placeholder tensor 'Placeholder/_0' with dtype int32\n",
      "\t [[{{node Placeholder/_0}}]]\n"
     ]
    },
    {
     "name": "stdout",
     "output_type": "stream",
     "text": [
      "1/1 [==============================] - 0s 275ms/step\n"
     ]
    }
   ],
   "source": [
    "    pred = model.predict(test_tensorflow_) # Using test data on the model\n",
    "    pred = np.argmax(pred,axis=1)\n",
    "\n",
    "    # Map the label \n",
    "    labels = (training_tensorflow.class_indices)\n",
    "    labels = dict((v,k) for k,v in labels.items())\n",
    "    pred = [labels[k] for k in pred]"
   ]
  },
  {
   "cell_type": "markdown",
   "metadata": {},
   "source": [
    "## Classifier report"
   ]
  },
  {
   "cell_type": "code",
   "execution_count": 54,
   "metadata": {},
   "outputs": [
    {
     "name": "stdout",
     "output_type": "stream",
     "text": [
      "Classification Report - Test Data:\n",
      "              precision    recall  f1-score   support\n",
      "\n",
      "           A       1.00      1.00      1.00         1\n",
      "           B       1.00      1.00      1.00         1\n",
      "           C       1.00      1.00      1.00         1\n",
      "           D       1.00      1.00      1.00         1\n",
      "           E       1.00      1.00      1.00         1\n",
      "           F       1.00      1.00      1.00         1\n",
      "           G       1.00      1.00      1.00         1\n",
      "           H       1.00      1.00      1.00         1\n",
      "           I       1.00      1.00      1.00         1\n",
      "           J       1.00      1.00      1.00         1\n",
      "           K       1.00      1.00      1.00         1\n",
      "           L       1.00      1.00      1.00         1\n",
      "           M       1.00      1.00      1.00         1\n",
      "           N       1.00      1.00      1.00         1\n",
      "           O       1.00      1.00      1.00         1\n",
      "           P       1.00      1.00      1.00         1\n",
      "           Q       1.00      1.00      1.00         1\n",
      "           R       1.00      1.00      1.00         1\n",
      "           S       1.00      1.00      1.00         1\n",
      "           T       1.00      1.00      1.00         1\n",
      "           U       1.00      1.00      1.00         1\n",
      "           V       0.00      0.00      0.00         1\n",
      "           W       0.50      1.00      0.67         1\n",
      "           X       1.00      1.00      1.00         1\n",
      "           Y       1.00      1.00      1.00         1\n",
      "           Z       1.00      1.00      1.00         1\n",
      "\n",
      "    accuracy                           0.96        26\n",
      "   macro avg       0.94      0.96      0.95        26\n",
      "weighted avg       0.94      0.96      0.95        26\n",
      "\n"
     ]
    },
    {
     "name": "stderr",
     "output_type": "stream",
     "text": [
      "/home/coder/.local/lib/python3.9/site-packages/sklearn/metrics/_classification.py:1344: UndefinedMetricWarning: Precision and F-score are ill-defined and being set to 0.0 in labels with no predicted samples. Use `zero_division` parameter to control this behavior.\n",
      "  _warn_prf(average, modifier, msg_start, len(result))\n",
      "/home/coder/.local/lib/python3.9/site-packages/sklearn/metrics/_classification.py:1344: UndefinedMetricWarning: Precision and F-score are ill-defined and being set to 0.0 in labels with no predicted samples. Use `zero_division` parameter to control this behavior.\n",
      "  _warn_prf(average, modifier, msg_start, len(result))\n",
      "/home/coder/.local/lib/python3.9/site-packages/sklearn/metrics/_classification.py:1344: UndefinedMetricWarning: Precision and F-score are ill-defined and being set to 0.0 in labels with no predicted samples. Use `zero_division` parameter to control this behavior.\n",
      "  _warn_prf(average, modifier, msg_start, len(result))\n"
     ]
    }
   ],
   "source": [
    "    y_true = test_df['label'].values # Test labels from dataframe\n",
    "    classification_report_test = classification_report(y_true, pred) # Create classification report with labels, and predictions\n",
    "    print(\"Classification Report - Test Data:\")\n",
    "    print(classification_report_test)"
   ]
  },
  {
   "cell_type": "markdown",
   "metadata": {},
   "source": [
    "## Plotting history "
   ]
  },
  {
   "cell_type": "code",
   "execution_count": 59,
   "metadata": {},
   "outputs": [
    {
     "data": {
      "text/plain": [
       "[<matplotlib.lines.Line2D at 0x7fd2f83f6940>]"
      ]
     },
     "execution_count": 59,
     "metadata": {},
     "output_type": "execute_result"
    },
    {
     "data": {
      "image/png": "[encoded data removed]",
      "text/plain": [
       "<Figure size 640x480 with 1 Axes>"
      ]
     },
     "metadata": {},
     "output_type": "display_data"
    }
   ],
   "source": [
    "plt.plot(np.arange(0,2), H.history[\"loss\"], label = \"train_loss\")\n",
    "plt.plot(np.arange(0, 2), H.history[\"val_loss\"], label=\"val_loss\", linestyle=\":\")"
   ]
  }
 ],
 "metadata": {
  "kernelspec": {
   "display_name": "Python 3",
   "language": "python",
   "name": "python3"
  },
  "language_info": {
   "codemirror_mode": {
    "name": "ipython",
    "version": 3
   },
   "file_extension": ".py",
   "mimetype": "text/x-python",
   "name": "python",
   "nbconvert_exporter": "python",
   "pygments_lexer": "ipython3",
   "version": "3.9.2"
  },
  "orig_nbformat": 4,
  "vscode": {
   "interpreter": {
    "hash": "767d51c1340bd893661ea55ea3124f6de3c7a262a8b4abca0554b478b1e2ff90"
   }
  }
 },
 "nbformat": 4,
 "nbformat_minor": 2
}
